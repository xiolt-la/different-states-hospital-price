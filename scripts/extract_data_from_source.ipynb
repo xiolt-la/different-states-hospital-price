{
 "cells": [
  {
   "cell_type": "code",
   "execution_count": 18,
   "id": "e3c6ff38",
   "metadata": {},
   "outputs": [],
   "source": [
    "#import libaries\n",
    "import pandas as pd\n",
    "import numpy as np\n",
    "import requests\n",
    "import json\n",
    "import os\n",
    "import sqlalchemy\n",
    "import time\n",
    "from tqdm.notebook import tqdm\n",
    "from io import StringIO\n",
    "from google.cloud import storage"
   ]
  },
  {
   "cell_type": "code",
   "execution_count": 38,
   "id": "fc73c1c9",
   "metadata": {},
   "outputs": [],
   "source": [
    "#extract data function\n",
    "def extract_data(database_name, table):\n",
    "    engine = sqlalchemy.create_engine(f'mysql+pymysql://root@localhost/{database_name}')\n",
    "    query = f'SELECT * FROM {table}'\n",
    "    chunk_size = 100000\n",
    "    counter = 0\n",
    "    #read by chunk\n",
    "    for chunk in pd.read_sql_query(query, engine, chunksize=chunk_size):\n",
    "        start_time = time.time()\n",
    "        print(f'Processing Chunk {counter}...')\n",
    "        counter += 1\n",
    "        end_time = time.time()\n",
    "        total_time = end_time - start_time\n",
    "        print(f'Chunk {counter} processed in {total_time:.2f} seconds')\n",
    "    return df"
   ]
  },
  {
   "cell_type": "code",
   "execution_count": 44,
   "id": "bba47701",
   "metadata": {},
   "outputs": [],
   "source": [
    "#function to store data to the google cloud\n",
    "def store_to_google_bucket(df, df_name):\n",
    "    try:\n",
    "        service_account_key_path = 'different-state-hospital-price-fd662d2f48c2.json'\n",
    "        os.environ['GOOGLE_APPLICATION_CREDENTIALS'] = service_account_key_path\n",
    "        # Initialize the GCP storage client\n",
    "        client = storage.Client()\n",
    "        json_data = df.to_json(orient='records', lines=True)\n",
    "        bucket_name = 'different-state-hospital-prices'\n",
    "        destination_blob_name = f'{df_name}.json'\n",
    "        # Get the bucket object\n",
    "        bucket = client.get_bucket(bucket_name)\n",
    "        # Create a new blob and upload the JSON data\n",
    "        blob = bucket.blob(destination_blob_name)\n",
    "        blob.upload_from_string(json_data, content_type='application/json')\n",
    "        print(f'Data successfully uploaded to {destination_blob_name}')\n",
    "    except Exception as e:\n",
    "        print(f'An error occurred: {e}')"
   ]
  },
  {
   "cell_type": "code",
   "execution_count": 41,
   "id": "e6f1962f",
   "metadata": {
    "scrolled": true
   },
   "outputs": [
    {
     "name": "stdout",
     "output_type": "stream",
     "text": [
      "Processing Chunk 0...\n",
      "Chunk 1 processed in 0.00 seconds\n",
      "Processing Chunk 1...\n",
      "Chunk 2 processed in 0.00 seconds\n",
      "Processing Chunk 2...\n",
      "Chunk 3 processed in 0.00 seconds\n",
      "Processing Chunk 3...\n",
      "Chunk 4 processed in 0.00 seconds\n",
      "Processing Chunk 4...\n",
      "Chunk 5 processed in 0.00 seconds\n",
      "Processing Chunk 5...\n",
      "Chunk 6 processed in 0.00 seconds\n",
      "Processing Chunk 6...\n",
      "Chunk 7 processed in 0.00 seconds\n",
      "Processing Chunk 7...\n",
      "Chunk 8 processed in 0.00 seconds\n",
      "Processing Chunk 8...\n",
      "Chunk 9 processed in 0.00 seconds\n",
      "Processing Chunk 9...\n",
      "Chunk 10 processed in 0.00 seconds\n",
      "Processing Chunk 10...\n",
      "Chunk 11 processed in 0.00 seconds\n",
      "Processing Chunk 11...\n",
      "Chunk 12 processed in 0.00 seconds\n",
      "Processing Chunk 12...\n",
      "Chunk 13 processed in 0.00 seconds\n",
      "Processing Chunk 13...\n",
      "Chunk 14 processed in 0.00 seconds\n",
      "Processing Chunk 14...\n",
      "Chunk 15 processed in 0.00 seconds\n",
      "Processing Chunk 15...\n",
      "Chunk 16 processed in 0.00 seconds\n",
      "Processing Chunk 16...\n",
      "Chunk 17 processed in 0.00 seconds\n",
      "Processing Chunk 17...\n",
      "Chunk 18 processed in 0.00 seconds\n",
      "Processing Chunk 18...\n",
      "Chunk 19 processed in 0.00 seconds\n",
      "Processing Chunk 19...\n",
      "Chunk 20 processed in 0.00 seconds\n",
      "Processing Chunk 20...\n",
      "Chunk 21 processed in 0.00 seconds\n",
      "Processing Chunk 21...\n",
      "Chunk 22 processed in 0.00 seconds\n",
      "Processing Chunk 22...\n",
      "Chunk 23 processed in 0.00 seconds\n",
      "Processing Chunk 23...\n",
      "Chunk 24 processed in 0.00 seconds\n",
      "Processing Chunk 24...\n",
      "Chunk 25 processed in 0.00 seconds\n",
      "Processing Chunk 25...\n",
      "Chunk 26 processed in 0.00 seconds\n",
      "Processing Chunk 26...\n",
      "Chunk 27 processed in 0.00 seconds\n",
      "Processing Chunk 27...\n",
      "Chunk 28 processed in 0.00 seconds\n",
      "Processing Chunk 28...\n",
      "Chunk 29 processed in 0.00 seconds\n",
      "Processing Chunk 29...\n",
      "Chunk 30 processed in 0.00 seconds\n",
      "Processing Chunk 30...\n",
      "Chunk 31 processed in 0.00 seconds\n",
      "Processing Chunk 31...\n",
      "Chunk 32 processed in 0.00 seconds\n",
      "Processing Chunk 32...\n",
      "Chunk 33 processed in 0.00 seconds\n"
     ]
    },
    {
     "data": {
      "text/html": [
       "<div>\n",
       "<style scoped>\n",
       "    .dataframe tbody tr th:only-of-type {\n",
       "        vertical-align: middle;\n",
       "    }\n",
       "\n",
       "    .dataframe tbody tr th {\n",
       "        vertical-align: top;\n",
       "    }\n",
       "\n",
       "    .dataframe thead th {\n",
       "        text-align: right;\n",
       "    }\n",
       "</style>\n",
       "<table border=\"1\" class=\"dataframe\">\n",
       "  <thead>\n",
       "    <tr style=\"text-align: right;\">\n",
       "      <th></th>\n",
       "      <th>code</th>\n",
       "      <th>npi_number</th>\n",
       "      <th>payer</th>\n",
       "      <th>price</th>\n",
       "    </tr>\n",
       "  </thead>\n",
       "  <tbody>\n",
       "    <tr>\n",
       "      <th>0</th>\n",
       "      <td>00000A</td>\n",
       "      <td>1053358010.0</td>\n",
       "      <td>CASH</td>\n",
       "      <td>75047.00</td>\n",
       "    </tr>\n",
       "    <tr>\n",
       "      <th>1</th>\n",
       "      <td>00000A</td>\n",
       "      <td>1336186394</td>\n",
       "      <td>CASH</td>\n",
       "      <td>75047.00</td>\n",
       "    </tr>\n",
       "    <tr>\n",
       "      <th>2</th>\n",
       "      <td>00001U</td>\n",
       "      <td>1003139775.0</td>\n",
       "      <td>CASH</td>\n",
       "      <td>457.23</td>\n",
       "    </tr>\n",
       "    <tr>\n",
       "      <th>3</th>\n",
       "      <td>00001U</td>\n",
       "      <td>1053824292.0</td>\n",
       "      <td>CASH</td>\n",
       "      <td>972.00</td>\n",
       "    </tr>\n",
       "    <tr>\n",
       "      <th>4</th>\n",
       "      <td>00001U</td>\n",
       "      <td>1417901406.0</td>\n",
       "      <td>CASH</td>\n",
       "      <td>296.00</td>\n",
       "    </tr>\n",
       "  </tbody>\n",
       "</table>\n",
       "</div>"
      ],
      "text/plain": [
       "     code    npi_number payer     price\n",
       "0  00000A  1053358010.0  CASH  75047.00\n",
       "1  00000A    1336186394  CASH  75047.00\n",
       "2  00001U  1003139775.0  CASH    457.23\n",
       "3  00001U  1053824292.0  CASH    972.00\n",
       "4  00001U  1417901406.0  CASH    296.00"
      ]
     },
     "execution_count": 41,
     "metadata": {},
     "output_type": "execute_result"
    }
   ],
   "source": [
    "cpt_hcpcs_df = extract_data('hospital-price-transparency', 'cpt_hcpcs')\n",
    "cpt_hcpcs_df.head()"
   ]
  },
  {
   "cell_type": "code",
   "execution_count": null,
   "id": "2131ed59",
   "metadata": {
    "scrolled": false
   },
   "outputs": [],
   "source": [
    "store_to_google_bucket(cpt_hcpcs_df, 'cpt_hcpcs')"
   ]
  },
  {
   "cell_type": "code",
   "execution_count": null,
   "id": "9b651a61",
   "metadata": {},
   "outputs": [],
   "source": [
    "hospitals_df = extract_data('hospital-price-transparency', 'hospitals')\n",
    "hospitals_df.head()"
   ]
  },
  {
   "cell_type": "code",
   "execution_count": null,
   "id": "d5d00f4c",
   "metadata": {},
   "outputs": [],
   "source": [
    "store_to_google_bucket(hospitals_df, 'hospitals')"
   ]
  },
  {
   "cell_type": "code",
   "execution_count": null,
   "id": "66a41a71",
   "metadata": {},
   "outputs": [],
   "source": [
    "prices_df = extract_data('hospital-price-transparency', 'prices')\n",
    "prices_df.head()"
   ]
  },
  {
   "cell_type": "code",
   "execution_count": null,
   "id": "807b8d28",
   "metadata": {},
   "outputs": [],
   "source": [
    "store_to_google_bucket(prices_df, 'prices')"
   ]
  },
  {
   "cell_type": "code",
   "execution_count": null,
   "id": "9fb11f6b",
   "metadata": {},
   "outputs": [],
   "source": []
  }
 ],
 "metadata": {
  "kernelspec": {
   "display_name": "Python 3 (ipykernel)",
   "language": "python",
   "name": "python3"
  },
  "language_info": {
   "codemirror_mode": {
    "name": "ipython",
    "version": 3
   },
   "file_extension": ".py",
   "mimetype": "text/x-python",
   "name": "python",
   "nbconvert_exporter": "python",
   "pygments_lexer": "ipython3",
   "version": "3.11.1"
  }
 },
 "nbformat": 4,
 "nbformat_minor": 5
}
