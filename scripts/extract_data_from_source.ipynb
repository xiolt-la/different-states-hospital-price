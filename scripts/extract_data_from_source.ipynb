{
 "cells": [
  {
   "cell_type": "code",
   "execution_count": 75,
   "id": "e3c6ff38",
   "metadata": {},
   "outputs": [],
   "source": [
    "#import libaries\n",
    "import pandas as pd\n",
    "import numpy as np\n",
    "import requests\n",
    "import json\n",
    "import os\n",
    "from tqdm.notebook import tqdm\n",
    "from io import StringIO\n",
    "from google.cloud import storage"
   ]
  },
  {
   "cell_type": "code",
   "execution_count": 80,
   "id": "e1a4aae0",
   "metadata": {},
   "outputs": [],
   "source": [
    "def download_with_progress(url):\n",
    "    response = requests.get(url, stream=True)\n",
    "    total_size_in_bytes = int(response.headers.get('content-length', 0))\n",
    "    block_size = 1024  # 1 Kibibyte\n",
    "    progress_bar = tqdm(total=total_size_in_bytes, unit='iB', unit_scale=True)\n",
    "    data = []\n",
    "    for data_chunk in response.iter_content(block_size):\n",
    "        progress_bar.update(len(data_chunk))\n",
    "        data.append(data_chunk)\n",
    "    progress_bar.close()\n",
    "    return b\"\".join(data)"
   ]
  },
  {
   "cell_type": "code",
   "execution_count": 81,
   "id": "fc73c1c9",
   "metadata": {},
   "outputs": [],
   "source": [
    "#extract data function\n",
    "def extract_data_dolthub(repo, branch, table):\n",
    "    url = f\"https://www.dolthub.com/csv/dolthub/{repo}/{branch}/{table}\"\n",
    "    csv_data = download_with_progress(url)\n",
    "    df_raw = pd.read_csv(StringIO(csv_data.decode('utf-8')))\n",
    "    print(df_raw.info())\n",
    "    print(df_raw.shape)\n",
    "    return df_raw"
   ]
  },
  {
   "cell_type": "code",
   "execution_count": 82,
   "id": "bba47701",
   "metadata": {},
   "outputs": [],
   "source": [
    "#function to store data to the google cloud\n",
    "def store_to_google_bucket(df, df_name):\n",
    "    service_account_key_path = 'different-state-hospital-price-fd662d2f48c2.json'\n",
    "    os.environ['GOOGLE_APPLICATION_CREDENTIALS'] = service_account_key_path\n",
    "    # Initialize the GCP storage client\n",
    "    client = storage.Client()\n",
    "    json_data = df.to_json(orient='records')\n",
    "    bucket_name = 'different-state-hospital-prices'\n",
    "    destination_blob_name = f'{df_name}.json'\n",
    "    # Get the bucket object\n",
    "    bucket = client.get_bucket(bucket_name)\n",
    "    # Create a new blob and upload the JSON data\n",
    "    blob = bucket.blob(destination_blob_name)\n",
    "    blob.upload_from_string(json_data, content_type='application/json')\n",
    "    print(f'Data successfully uploaded to {destination_blob_name}')"
   ]
  },
  {
   "cell_type": "code",
   "execution_count": 83,
   "id": "b18d13ec",
   "metadata": {
    "scrolled": true
   },
   "outputs": [
    {
     "data": {
      "application/vnd.jupyter.widget-view+json": {
       "model_id": "18001cc64ab54b1aba352ee3f8f500b2",
       "version_major": 2,
       "version_minor": 0
      },
      "text/plain": [
       "0.00iB [00:00, ?iB/s]"
      ]
     },
     "metadata": {},
     "output_type": "display_data"
    },
    {
     "name": "stdout",
     "output_type": "stream",
     "text": [
      "<class 'pandas.core.frame.DataFrame'>\n",
      "RangeIndex: 3287818 entries, 0 to 3287817\n",
      "Data columns (total 3 columns):\n",
      " #   Column             Dtype \n",
      "---  ------             ----- \n",
      " 0   code               object\n",
      " 1   short_description  object\n",
      " 2   long_description   object\n",
      "dtypes: object(3)\n",
      "memory usage: 75.3+ MB\n",
      "None\n",
      "(3287818, 3)\n"
     ]
    },
    {
     "name": "stderr",
     "output_type": "stream",
     "text": [
      "C:\\Users\\Administrator\\AppData\\Local\\Temp\\ipykernel_28308\\2165229171.py:5: DtypeWarning: Columns (2) have mixed types. Specify dtype option on import or set low_memory=False.\n",
      "  df_raw = pd.read_csv(StringIO(csv_data.decode('utf-8')))\n"
     ]
    }
   ],
   "source": [
    "cpt_hcpcs_df = extract_data_dolthub('hospital-price-transparency', 'master', 'cpt_hcpcs')"
   ]
  },
  {
   "cell_type": "code",
   "execution_count": 85,
   "id": "e5bd6fcb",
   "metadata": {},
   "outputs": [
    {
     "name": "stdout",
     "output_type": "stream",
     "text": [
      "Data successfully uploaded to cpt_hcpcs.json\n"
     ]
    }
   ],
   "source": [
    "store_to_google_bucket(cpt_hcpcs_df, 'cpt_hcpcs')"
   ]
  },
  {
   "cell_type": "code",
   "execution_count": null,
   "id": "c373711a",
   "metadata": {
    "scrolled": true
   },
   "outputs": [],
   "source": [
    "prices_df = extract_data_dolthub('hospital-price-transparency', 'master', 'prices')"
   ]
  },
  {
   "cell_type": "code",
   "execution_count": null,
   "id": "0b04c9c4",
   "metadata": {},
   "outputs": [],
   "source": [
    "store_to_google_bucket(prices_df, 'prices')"
   ]
  },
  {
   "cell_type": "code",
   "execution_count": null,
   "id": "81fd59f1",
   "metadata": {},
   "outputs": [],
   "source": [
    "hospitals_df = extract_data_dolthub('hospital-price-transparency', 'master', 'hospitals')"
   ]
  },
  {
   "cell_type": "code",
   "execution_count": null,
   "id": "d2096b15",
   "metadata": {},
   "outputs": [],
   "source": [
    "store_to_google_bucket(hospitals_df, 'hospitals')"
   ]
  },
  {
   "cell_type": "code",
   "execution_count": null,
   "id": "c5808abe",
   "metadata": {},
   "outputs": [],
   "source": []
  }
 ],
 "metadata": {
  "kernelspec": {
   "display_name": "Python 3 (ipykernel)",
   "language": "python",
   "name": "python3"
  },
  "language_info": {
   "codemirror_mode": {
    "name": "ipython",
    "version": 3
   },
   "file_extension": ".py",
   "mimetype": "text/x-python",
   "name": "python",
   "nbconvert_exporter": "python",
   "pygments_lexer": "ipython3",
   "version": "3.11.1"
  }
 },
 "nbformat": 4,
 "nbformat_minor": 5
}
