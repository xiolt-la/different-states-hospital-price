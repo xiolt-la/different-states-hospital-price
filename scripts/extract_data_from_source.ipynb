{
 "cells": [
  {
   "cell_type": "code",
   "execution_count": 1,
   "id": "e3c6ff38",
   "metadata": {},
   "outputs": [],
   "source": [
    "#import libaries\n",
    "import pandas as pd\n",
    "import numpy as np\n",
    "import requests\n",
    "import json\n",
    "import os\n",
    "import sqlalchemy\n",
    "import time\n",
    "from tqdm.notebook import tqdm\n",
    "from io import StringIO\n",
    "from google.cloud import storage"
   ]
  },
  {
   "cell_type": "code",
   "execution_count": 2,
   "id": "fc73c1c9",
   "metadata": {},
   "outputs": [],
   "source": [
    "#extract data function\n",
    "def extract_data(database_name, table):\n",
    "    engine = sqlalchemy.create_engine(f'mysql+pymysql://root@localhost/{database_name}')\n",
    "    query = f'SELECT * FROM {table};'\n",
    "    chunk_size = 100000\n",
    "    counter = 0\n",
    "    all_chunks = []\n",
    "    #read by chunk\n",
    "    for chunk in pd.read_sql_query(query, engine, chunksize=chunk_size):\n",
    "        start_time = time.time()\n",
    "        print(f'Processing Chunk {counter}...')\n",
    "        all_chunks.append(chunk)\n",
    "        counter += 1\n",
    "        end_time = time.time()\n",
    "        total_time = end_time - start_time\n",
    "        print(f'Chunk {counter} processed in {total_time:.2f} seconds')\n",
    "    if all_chunks:\n",
    "        df = pd.concat(all_chunks, ignore_index=True)\n",
    "    else:\n",
    "        df = pd.DataFrame()\n",
    "    return df"
   ]
  },
  {
   "cell_type": "code",
   "execution_count": 3,
   "id": "bba47701",
   "metadata": {},
   "outputs": [],
   "source": [
    "#function to store data to the google cloud\n",
    "def store_to_google_bucket(df, df_name):\n",
    "    try:\n",
    "        service_account_key_path = 'different-state-hospital-price-fd662d2f48c2.json'\n",
    "        os.environ['GOOGLE_APPLICATION_CREDENTIALS'] = service_account_key_path\n",
    "        # Initialize the GCP storage client\n",
    "        client = storage.Client()\n",
    "        json_data = df.to_json(orient='records', lines=True)\n",
    "        bucket_name = 'different-state-hospital-prices'\n",
    "        destination_blob_name = f'{df_name}.json'\n",
    "        # Get the bucket object\n",
    "        bucket = client.get_bucket(bucket_name)\n",
    "        # Create a new blob and upload the JSON data\n",
    "        blob = bucket.blob(destination_blob_name)\n",
    "        blob.upload_from_string(json_data, content_type='application/json')\n",
    "        print(f'Data successfully uploaded to {destination_blob_name}')\n",
    "    except Exception as e:\n",
    "        print(f'An error occurred: {e}')"
   ]
  },
  {
   "cell_type": "code",
   "execution_count": 4,
   "id": "028f3b8e",
   "metadata": {
    "scrolled": true
   },
   "outputs": [
    {
     "name": "stdout",
     "output_type": "stream",
     "text": [
      "Processing Chunk 0...\n",
      "Chunk 1 processed in 0.00 seconds\n",
      "Processing Chunk 1...\n",
      "Chunk 2 processed in 0.00 seconds\n",
      "Processing Chunk 2...\n",
      "Chunk 3 processed in 0.00 seconds\n",
      "Processing Chunk 3...\n",
      "Chunk 4 processed in 0.00 seconds\n",
      "Processing Chunk 4...\n",
      "Chunk 5 processed in 0.00 seconds\n",
      "Processing Chunk 5...\n",
      "Chunk 6 processed in 0.00 seconds\n",
      "Processing Chunk 6...\n",
      "Chunk 7 processed in 0.00 seconds\n",
      "Processing Chunk 7...\n",
      "Chunk 8 processed in 0.00 seconds\n",
      "Processing Chunk 8...\n",
      "Chunk 9 processed in 0.00 seconds\n",
      "Processing Chunk 9...\n",
      "Chunk 10 processed in 0.00 seconds\n",
      "Processing Chunk 10...\n",
      "Chunk 11 processed in 0.00 seconds\n",
      "Processing Chunk 11...\n",
      "Chunk 12 processed in 0.00 seconds\n",
      "Processing Chunk 12...\n",
      "Chunk 13 processed in 0.00 seconds\n",
      "Processing Chunk 13...\n",
      "Chunk 14 processed in 0.00 seconds\n",
      "Processing Chunk 14...\n",
      "Chunk 15 processed in 0.00 seconds\n",
      "Processing Chunk 15...\n",
      "Chunk 16 processed in 0.00 seconds\n",
      "Processing Chunk 16...\n",
      "Chunk 17 processed in 0.00 seconds\n",
      "Processing Chunk 17...\n",
      "Chunk 18 processed in 0.00 seconds\n",
      "Processing Chunk 18...\n",
      "Chunk 19 processed in 0.00 seconds\n",
      "Processing Chunk 19...\n",
      "Chunk 20 processed in 0.00 seconds\n",
      "Processing Chunk 20...\n",
      "Chunk 21 processed in 0.00 seconds\n",
      "Processing Chunk 21...\n",
      "Chunk 22 processed in 0.00 seconds\n",
      "Processing Chunk 22...\n",
      "Chunk 23 processed in 0.00 seconds\n",
      "Processing Chunk 23...\n",
      "Chunk 24 processed in 0.00 seconds\n",
      "Processing Chunk 24...\n",
      "Chunk 25 processed in 0.00 seconds\n",
      "Processing Chunk 25...\n",
      "Chunk 26 processed in 0.00 seconds\n",
      "Processing Chunk 26...\n",
      "Chunk 27 processed in 0.00 seconds\n",
      "Processing Chunk 27...\n",
      "Chunk 28 processed in 0.00 seconds\n",
      "Processing Chunk 28...\n",
      "Chunk 29 processed in 0.00 seconds\n",
      "Processing Chunk 29...\n",
      "Chunk 30 processed in 0.00 seconds\n",
      "Processing Chunk 30...\n",
      "Chunk 31 processed in 0.00 seconds\n",
      "Processing Chunk 31...\n",
      "Chunk 32 processed in 0.00 seconds\n",
      "Processing Chunk 32...\n",
      "Chunk 33 processed in 0.00 seconds\n",
      "(3287818, 3)\n"
     ]
    },
    {
     "data": {
      "text/html": [
       "<div>\n",
       "<style scoped>\n",
       "    .dataframe tbody tr th:only-of-type {\n",
       "        vertical-align: middle;\n",
       "    }\n",
       "\n",
       "    .dataframe tbody tr th {\n",
       "        vertical-align: top;\n",
       "    }\n",
       "\n",
       "    .dataframe thead th {\n",
       "        text-align: right;\n",
       "    }\n",
       "</style>\n",
       "<table border=\"1\" class=\"dataframe\">\n",
       "  <thead>\n",
       "    <tr style=\"text-align: right;\">\n",
       "      <th></th>\n",
       "      <th>code</th>\n",
       "      <th>short_description</th>\n",
       "      <th>long_description</th>\n",
       "    </tr>\n",
       "  </thead>\n",
       "  <tbody>\n",
       "    <tr>\n",
       "      <th>0</th>\n",
       "      <td>00000A</td>\n",
       "      <td>DVC REVASC 6X20MM 200CM</td>\n",
       "      <td>None</td>\n",
       "    </tr>\n",
       "    <tr>\n",
       "      <th>1</th>\n",
       "      <td>00001U</td>\n",
       "      <td>RBC DNA HEA 35 AG PLA</td>\n",
       "      <td>None</td>\n",
       "    </tr>\n",
       "    <tr>\n",
       "      <th>2</th>\n",
       "      <td>00001U,1</td>\n",
       "      <td>RBC DNA HEA 35 AG PLA</td>\n",
       "      <td>None</td>\n",
       "    </tr>\n",
       "    <tr>\n",
       "      <th>3</th>\n",
       "      <td>00013</td>\n",
       "      <td>PT INDIVIDUAL GYM</td>\n",
       "      <td>None</td>\n",
       "    </tr>\n",
       "    <tr>\n",
       "      <th>4</th>\n",
       "      <td>0001A</td>\n",
       "      <td>HC ADM PFIZER SARSCOV2 30MCG/0.3ML 1ST</td>\n",
       "      <td>None</td>\n",
       "    </tr>\n",
       "  </tbody>\n",
       "</table>\n",
       "</div>"
      ],
      "text/plain": [
       "       code                       short_description long_description\n",
       "0    00000A                 DVC REVASC 6X20MM 200CM             None\n",
       "1    00001U                   RBC DNA HEA 35 AG PLA             None\n",
       "2  00001U,1                   RBC DNA HEA 35 AG PLA             None\n",
       "3     00013                       PT INDIVIDUAL GYM             None\n",
       "4     0001A  HC ADM PFIZER SARSCOV2 30MCG/0.3ML 1ST             None"
      ]
     },
     "execution_count": 4,
     "metadata": {},
     "output_type": "execute_result"
    }
   ],
   "source": [
    "cpt_hcpcs_df = extract_data('hospital-price-transparency', 'cpt_hcpcs')\n",
    "print(cpt_hcpcs_df.shape)\n",
    "cpt_hcpcs_df.head()"
   ]
  },
  {
   "cell_type": "code",
   "execution_count": 5,
   "id": "5f2c0e55",
   "metadata": {
    "scrolled": false
   },
   "outputs": [
    {
     "name": "stdout",
     "output_type": "stream",
     "text": [
      "Data successfully uploaded to cpt_hcpcs.json\n"
     ]
    }
   ],
   "source": [
    "store_to_google_bucket(cpt_hcpcs_df, 'cpt_hcpcs')"
   ]
  },
  {
   "cell_type": "code",
   "execution_count": 6,
   "id": "13fdaa50",
   "metadata": {},
   "outputs": [
    {
     "name": "stdout",
     "output_type": "stream",
     "text": [
      "Processing Chunk 0...\n",
      "Chunk 1 processed in 0.00 seconds\n",
      "(1400, 8)\n"
     ]
    },
    {
     "data": {
      "text/html": [
       "<div>\n",
       "<style scoped>\n",
       "    .dataframe tbody tr th:only-of-type {\n",
       "        vertical-align: middle;\n",
       "    }\n",
       "\n",
       "    .dataframe tbody tr th {\n",
       "        vertical-align: top;\n",
       "    }\n",
       "\n",
       "    .dataframe thead th {\n",
       "        text-align: right;\n",
       "    }\n",
       "</style>\n",
       "<table border=\"1\" class=\"dataframe\">\n",
       "  <thead>\n",
       "    <tr style=\"text-align: right;\">\n",
       "      <th></th>\n",
       "      <th>npi_number</th>\n",
       "      <th>name</th>\n",
       "      <th>url</th>\n",
       "      <th>street_address</th>\n",
       "      <th>city</th>\n",
       "      <th>state</th>\n",
       "      <th>zip_code</th>\n",
       "      <th>publish_date</th>\n",
       "    </tr>\n",
       "  </thead>\n",
       "  <tbody>\n",
       "    <tr>\n",
       "      <th>0</th>\n",
       "      <td>1003139775.0</td>\n",
       "      <td>HCA Virginia</td>\n",
       "      <td>https://hcavirginia.com/about/legal/pricing-tr...</td>\n",
       "      <td>901 E. Cary St Suite 210</td>\n",
       "      <td>Richmond</td>\n",
       "      <td>VA</td>\n",
       "      <td>None</td>\n",
       "      <td>2021-01-01</td>\n",
       "    </tr>\n",
       "    <tr>\n",
       "      <th>1</th>\n",
       "      <td>1003260480</td>\n",
       "      <td>Brookwood Baptist Medical Center</td>\n",
       "      <td>https://www.brookwoodbaptisthealth.com/docs/gl...</td>\n",
       "      <td>2010 Brookwood Medical Center Dr.</td>\n",
       "      <td>Birmingham</td>\n",
       "      <td>AL</td>\n",
       "      <td>35209</td>\n",
       "      <td>None</td>\n",
       "    </tr>\n",
       "    <tr>\n",
       "      <th>2</th>\n",
       "      <td>1003281452</td>\n",
       "      <td>Henderson Hospital</td>\n",
       "      <td>https://uhsfilecdn.eskycity.net/ac/henderson-h...</td>\n",
       "      <td>1050 West Galleria Drive</td>\n",
       "      <td>Henderson</td>\n",
       "      <td>NV</td>\n",
       "      <td>89011</td>\n",
       "      <td>2021-01-01</td>\n",
       "    </tr>\n",
       "    <tr>\n",
       "      <th>3</th>\n",
       "      <td>1003362997</td>\n",
       "      <td>CHI Health St. Elizabeth</td>\n",
       "      <td>https://www.chihealth.com/content/dam/chi-heal...</td>\n",
       "      <td>555 S. 70Th St.</td>\n",
       "      <td>Lincoln</td>\n",
       "      <td>NE</td>\n",
       "      <td>68510</td>\n",
       "      <td>2021-01-01</td>\n",
       "    </tr>\n",
       "    <tr>\n",
       "      <th>4</th>\n",
       "      <td>1003389206</td>\n",
       "      <td>Merrill pioneer hospital</td>\n",
       "      <td>https://www.avera.org/app/files/public/79147/m...</td>\n",
       "      <td>1100 S 10th Ave, Ste 100</td>\n",
       "      <td>Rock Rapids</td>\n",
       "      <td>IA</td>\n",
       "      <td>51246-2020</td>\n",
       "      <td>None</td>\n",
       "    </tr>\n",
       "  </tbody>\n",
       "</table>\n",
       "</div>"
      ],
      "text/plain": [
       "     npi_number                              name  \\\n",
       "0  1003139775.0                      HCA Virginia   \n",
       "1    1003260480  Brookwood Baptist Medical Center   \n",
       "2    1003281452                Henderson Hospital   \n",
       "3    1003362997          CHI Health St. Elizabeth   \n",
       "4    1003389206          Merrill pioneer hospital   \n",
       "\n",
       "                                                 url  \\\n",
       "0  https://hcavirginia.com/about/legal/pricing-tr...   \n",
       "1  https://www.brookwoodbaptisthealth.com/docs/gl...   \n",
       "2  https://uhsfilecdn.eskycity.net/ac/henderson-h...   \n",
       "3  https://www.chihealth.com/content/dam/chi-heal...   \n",
       "4  https://www.avera.org/app/files/public/79147/m...   \n",
       "\n",
       "                      street_address         city state    zip_code  \\\n",
       "0           901 E. Cary St Suite 210     Richmond    VA        None   \n",
       "1  2010 Brookwood Medical Center Dr.   Birmingham    AL       35209   \n",
       "2           1050 West Galleria Drive    Henderson    NV       89011   \n",
       "3                    555 S. 70Th St.      Lincoln    NE       68510   \n",
       "4           1100 S 10th Ave, Ste 100  Rock Rapids    IA  51246-2020   \n",
       "\n",
       "  publish_date  \n",
       "0   2021-01-01  \n",
       "1         None  \n",
       "2   2021-01-01  \n",
       "3   2021-01-01  \n",
       "4         None  "
      ]
     },
     "execution_count": 6,
     "metadata": {},
     "output_type": "execute_result"
    }
   ],
   "source": [
    "hospitals_df = extract_data('hospital-price-transparency', 'hospitals')\n",
    "print(hospitals_df.shape)\n",
    "hospitals_df.head()"
   ]
  },
  {
   "cell_type": "code",
   "execution_count": 7,
   "id": "ce0789a0",
   "metadata": {},
   "outputs": [
    {
     "name": "stdout",
     "output_type": "stream",
     "text": [
      "Data successfully uploaded to hospitals.json\n"
     ]
    }
   ],
   "source": [
    "store_to_google_bucket(hospitals_df, 'hospitals')"
   ]
  },
  {
   "cell_type": "code",
   "execution_count": null,
   "id": "0cba1678",
   "metadata": {},
   "outputs": [],
   "source": [
    "prices_df = extract_data('hospital-price-transparency', 'prices')\n",
    "print(prices_df.shape)\n",
    "prices_df.head()"
   ]
  },
  {
   "cell_type": "code",
   "execution_count": null,
   "id": "9672c97b",
   "metadata": {},
   "outputs": [],
   "source": [
    "store_to_google_bucket(prices_df, 'prices')"
   ]
  },
  {
   "cell_type": "code",
   "execution_count": null,
   "id": "1bc90fbf",
   "metadata": {},
   "outputs": [],
   "source": []
  }
 ],
 "metadata": {
  "kernelspec": {
   "display_name": "Python 3 (ipykernel)",
   "language": "python",
   "name": "python3"
  },
  "language_info": {
   "codemirror_mode": {
    "name": "ipython",
    "version": 3
   },
   "file_extension": ".py",
   "mimetype": "text/x-python",
   "name": "python",
   "nbconvert_exporter": "python",
   "pygments_lexer": "ipython3",
   "version": "3.11.1"
  }
 },
 "nbformat": 4,
 "nbformat_minor": 5
}
