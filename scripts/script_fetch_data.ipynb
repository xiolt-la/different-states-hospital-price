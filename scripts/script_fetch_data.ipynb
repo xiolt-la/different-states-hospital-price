{
 "cells": [
  {
   "cell_type": "code",
   "execution_count": 3,
   "id": "e3c6ff38",
   "metadata": {},
   "outputs": [],
   "source": [
    "import pandas as pd\n",
    "import requests\n",
    "import json\n",
    "import io"
   ]
  },
  {
   "cell_type": "code",
   "execution_count": 9,
   "id": "e0487a38",
   "metadata": {},
   "outputs": [],
   "source": [
    "def download_csv(owner, repo, branch, table):\n",
    "    local_file = f'{table}.csv'\n",
    "    print(f\"start downloading\")\n",
    "    res = requests.get('https://www.dolthub.com/csv/{}/{}/{}/{}'.format(owner, repo, branch, table))\n",
    "    if res.status_code == 200:\n",
    "        with open(local_file, 'wb') as file:\n",
    "            file.write(res.content)\n",
    "        print(\"download sucessful\")\n",
    "    else:\n",
    "        print(\"Failed to download\")"
   ]
  },
  {
   "cell_type": "code",
   "execution_count": 19,
   "id": "fc73c1c9",
   "metadata": {},
   "outputs": [],
   "source": [
    "def fetch_data(table):\n",
    "    while True:\n",
    "        df_iter = pd.read_csv(f'{table}.csv', iterator = True, chunksize = 100000)\n",
    "        df = next(df_iter)\n",
    "    return df"
   ]
  },
  {
   "cell_type": "code",
   "execution_count": null,
   "id": "2c484a58",
   "metadata": {},
   "outputs": [],
   "source": []
  }
 ],
 "metadata": {
  "kernelspec": {
   "display_name": "Python 3 (ipykernel)",
   "language": "python",
   "name": "python3"
  },
  "language_info": {
   "codemirror_mode": {
    "name": "ipython",
    "version": 3
   },
   "file_extension": ".py",
   "mimetype": "text/x-python",
   "name": "python",
   "nbconvert_exporter": "python",
   "pygments_lexer": "ipython3",
   "version": "3.11.1"
  }
 },
 "nbformat": 4,
 "nbformat_minor": 5
}
